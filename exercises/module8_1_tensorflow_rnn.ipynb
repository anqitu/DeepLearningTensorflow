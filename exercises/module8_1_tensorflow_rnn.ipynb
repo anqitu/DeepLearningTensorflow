{
  "nbformat": 4,
  "nbformat_minor": 0,
  "metadata": {
    "colab": {
      "name": "module8_tensorflow_rnn.ipynb",
      "version": "0.3.2",
      "provenance": []
    },
    "kernelspec": {
      "name": "python3",
      "display_name": "Python 3"
    },
    "accelerator": "GPU"
  },
  "cells": [
    {
      "metadata": {
        "id": "MeDTDS3qfIq-",
        "colab_type": "code",
        "colab": {}
      },
      "cell_type": "code",
      "source": [
        "from keras.preprocessing import sequence\n",
        "from keras.datasets import imdb\n",
        "\n",
        "max_words= 20000\n",
        "max_len = 80\n",
        "(X_train, y_train), (X_test, y_test) = imdb.load_data(num_words=max_words)\n",
        "X_train = sequence.pad_sequences(X_train,maxlen=max_len,padding='pre', truncating='pre')\n",
        "X_test = sequence.pad_sequences(X_test,maxlen=max_len)"
      ],
      "execution_count": 0,
      "outputs": []
    },
    {
      "metadata": {
        "id": "e0NWX6cNgCi3",
        "colab_type": "code",
        "colab": {}
      },
      "cell_type": "code",
      "source": [
        "X_train[1:2,:]"
      ],
      "execution_count": 0,
      "outputs": []
    },
    {
      "metadata": {
        "id": "va6YQ4ukgIQ3",
        "colab_type": "code",
        "colab": {}
      },
      "cell_type": "code",
      "source": [
        "y_train[1:2]"
      ],
      "execution_count": 0,
      "outputs": []
    },
    {
      "metadata": {
        "id": "XdB1-ovKgYhJ",
        "colab_type": "code",
        "colab": {}
      },
      "cell_type": "code",
      "source": [
        "import numpy as np\n",
        "n_classes = len(np.unique(y_train)) # n_classes = 2\n",
        "y_train = np.eye(n_classes)[y_train]\n",
        "y_test = np.eye(n_classes)[y_test]"
      ],
      "execution_count": 0,
      "outputs": []
    },
    {
      "metadata": {
        "id": "G8rtqB3Fgyrr",
        "colab_type": "code",
        "colab": {}
      },
      "cell_type": "code",
      "source": [
        "y_train[:1]"
      ],
      "execution_count": 0,
      "outputs": []
    },
    {
      "metadata": {
        "id": "RVQOd2lCg3GE",
        "colab_type": "code",
        "colab": {}
      },
      "cell_type": "code",
      "source": [
        "y_train[1:2]"
      ],
      "execution_count": 0,
      "outputs": []
    },
    {
      "metadata": {
        "id": "HGJNCMFqg52T",
        "colab_type": "code",
        "colab": {}
      },
      "cell_type": "code",
      "source": [
        "import tensorflow as tf\n",
        "X = tf.placeholder(tf.int32,[None,80])\n",
        "y = tf.placeholder(tf.int32)"
      ],
      "execution_count": 0,
      "outputs": []
    },
    {
      "metadata": {
        "id": "FnqgeABThX43",
        "colab_type": "code",
        "colab": {}
      },
      "cell_type": "code",
      "source": [
        "rnn_size = 32\n",
        "embedding_size = 128\n",
        "W = tf.Variable(tf.truncated_normal([rnn_size,2],stddev=0.1))\n",
        "B = tf.Variable(tf.truncated_normal([2],stddev=0.1))\n",
        "embedding = tf.Variable(tf.truncated_normal([20000,embedding_size],stddev=0.1))"
      ],
      "execution_count": 0,
      "outputs": []
    },
    {
      "metadata": {
        "id": "a_WTXS5Dh64Q",
        "colab_type": "code",
        "colab": {}
      },
      "cell_type": "code",
      "source": [
        "# Step 2 Model\n",
        "\n",
        "from tensorflow.contrib import rnn\n",
        "\n",
        "x_embedded = tf.nn.embedding_lookup(embedding,X)\n",
        "x_embedded = tf.unstack(x_embedded,axis=1)\n",
        "cell = tf.nn.rnn_cell.LSTMCell(rnn_size)\n",
        "H,C = rnn.static_rnn(cell,x_embedded,dtype=tf.float32)\n",
        "\n",
        "Ylogits= tf.matmul(H[-1],W)+B\n",
        "yhat = tf.nn.softmax(Ylogits)"
      ],
      "execution_count": 0,
      "outputs": []
    },
    {
      "metadata": {
        "id": "UTdIoFBuj0D2",
        "colab_type": "code",
        "colab": {}
      },
      "cell_type": "code",
      "source": [
        "# Step 3 Loss Function\n",
        "\n",
        "loss = tf.reduce_mean(tf.nn.softmax_cross_entropy_with_logits_v2(labels=y,logits=Ylogits))"
      ],
      "execution_count": 0,
      "outputs": []
    },
    {
      "metadata": {
        "id": "ptqQDmT8kONi",
        "colab_type": "code",
        "colab": {}
      },
      "cell_type": "code",
      "source": [
        "# Step 4 Optimizer\n",
        "\n",
        "lr = 0.01\n",
        "train = tf.train.AdamOptimizer(lr).minimize(loss)"
      ],
      "execution_count": 0,
      "outputs": []
    },
    {
      "metadata": {
        "id": "a510ai4PkQlP",
        "colab_type": "code",
        "colab": {}
      },
      "cell_type": "code",
      "source": [
        "is_correct = tf.equal(tf.argmax(y,1),tf.argmax(yhat,1))\n",
        "accuracy = tf.reduce_mean(tf.cast(is_correct,tf.float32))\n",
        "\n",
        "init = tf.global_variables_initializer()\n",
        "sess = tf.Session()\n",
        "sess.run(init)\n",
        "\n",
        "training_epochs = 5\n",
        "batch_size = 100\n",
        "# Step 5: Training Loop\n",
        "for epoch in range(training_epochs):\n",
        "    for i in range(int(X_train.shape[0] / batch_size)):\n",
        "        batch_X = X_train[(i*batch_size):((i+1)*batch_size)]\n",
        "        batch_y = y_train[(i*batch_size):((i+1)*batch_size)]\n",
        "        train_data = {X: batch_X, y: batch_y}\n",
        "        sess.run(train, feed_dict=train_data)\n",
        "        print(epoch, \"/\", i,\"Training Accuracy = \", sess.run(accuracy, feed_dict=train_data))"
      ],
      "execution_count": 0,
      "outputs": []
    },
    {
      "metadata": {
        "id": "u7E0Pw87kW8q",
        "colab_type": "code",
        "colab": {}
      },
      "cell_type": "code",
      "source": [
        "acc = []\n",
        "for i in range(int(X_test.shape[0] / batch_size)):\n",
        "    batch_X = X_test[(i*batch_size):((i+1)*batch_size)]\n",
        "    batch_y = y_test[(i*batch_size):((i+1)*batch_size)]\n",
        "    test_data = {X: batch_X, y: batch_y}\n",
        "    sess.run(train, feed_dict = test_data)\n",
        "    acc.append(sess.run(accuracy, feed_dict = test_data))"
      ],
      "execution_count": 0,
      "outputs": []
    },
    {
      "metadata": {
        "id": "fZAvwM2xlZef",
        "colab_type": "code",
        "colab": {}
      },
      "cell_type": "code",
      "source": [
        "acc"
      ],
      "execution_count": 0,
      "outputs": []
    },
    {
      "metadata": {
        "id": "y3cRWJstldSS",
        "colab_type": "code",
        "colab": {}
      },
      "cell_type": "code",
      "source": [
        ""
      ],
      "execution_count": 0,
      "outputs": []
    }
  ]
}