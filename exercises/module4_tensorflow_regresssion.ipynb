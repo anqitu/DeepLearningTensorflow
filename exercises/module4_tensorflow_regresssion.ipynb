{
 "cells": [
  {
   "cell_type": "code",
   "execution_count": 1,
   "metadata": {
    "colab": {},
    "colab_type": "code",
    "id": "ign_n9jWN_yB"
   },
   "outputs": [],
   "source": [
    "import tensorflow as tf\n",
    "import numpy as np"
   ]
  },
  {
   "cell_type": "markdown",
   "metadata": {
    "colab_type": "text",
    "id": "qiyl87hqm3pc"
   },
   "source": [
    "## Step 0 Data Processing"
   ]
  },
  {
   "cell_type": "code",
   "execution_count": 2,
   "metadata": {
    "colab": {},
    "colab_type": "code",
    "id": "FU9hJz0hOIIF"
   },
   "outputs": [],
   "source": [
    "N=100\n",
    "X_train = np.linspace(-10,10,N)\n",
    "c1 = np.random.normal(loc=-0.5, scale=0.2, size=N)\n",
    "c2 = np.random.normal(loc=1.0, scale=0.2, size=N)\n",
    "y_train = c1*X_train+c2"
   ]
  },
  {
   "cell_type": "code",
   "execution_count": 5,
   "metadata": {
    "colab": {},
    "colab_type": "code",
    "id": "at1VrMcFOVZ9"
   },
   "outputs": [
    {
     "data": {
      "text/plain": [
       "<matplotlib.collections.PathCollection at 0x12d9f0dd8>"
      ]
     },
     "execution_count": 5,
     "metadata": {},
     "output_type": "execute_result"
    },
    {
     "data": {
      "image/png": "[encoded data removed]",
      "text/plain": [
       "<Figure size 432x288 with 1 Axes>"
      ]
     },
     "metadata": {
      "needs_background": "light"
     },
     "output_type": "display_data"
    }
   ],
   "source": [
    "import matplotlib.pyplot as plt\n",
    "%matplotlib inline\n",
    "plt.scatter(X_train,y_train)"
   ]
  },
  {
   "cell_type": "markdown",
   "metadata": {},
   "source": [
    "## Step 1: Initial Setup"
   ]
  },
  {
   "cell_type": "code",
   "execution_count": 8,
   "metadata": {
    "colab": {},
    "colab_type": "code",
    "id": "2Od3HtYDOWXs"
   },
   "outputs": [],
   "source": [
    "X = tf.placeholder(tf.float32)\n",
    "y = tf.placeholder(tf.float32)\n",
    "W = tf.Variable([0.1],tf.float32)\n",
    "b = tf.Variable([0.1],tf.float32)"
   ]
  },
  {
   "cell_type": "markdown",
   "metadata": {
    "colab_type": "text",
    "id": "2xNUILV_PwBO"
   },
   "source": [
    "## Step 2: Define the Model"
   ]
  },
  {
   "cell_type": "code",
   "execution_count": 9,
   "metadata": {
    "colab": {},
    "colab_type": "code",
    "id": "uSv28aWLPykt"
   },
   "outputs": [],
   "source": [
    "# yhat = tf.add(tf.multiply(W,X),b)\n",
    "yhat = W*X + b"
   ]
  },
  {
   "cell_type": "markdown",
   "metadata": {
    "colab_type": "text",
    "id": "qFepnCreQCLq"
   },
   "source": [
    "## Step 3: Loss Function"
   ]
  },
  {
   "cell_type": "code",
   "execution_count": 22,
   "metadata": {
    "colab": {},
    "colab_type": "code",
    "id": "F7ZTidSlP71D"
   },
   "outputs": [],
   "source": [
    "loss = tf.reduce_mean(tf.square(y-yhat))"
   ]
  },
  {
   "cell_type": "code",
   "execution_count": 24,
   "metadata": {},
   "outputs": [
    {
     "name": "stdout",
     "output_type": "stream",
     "text": [
      "2.5\n"
     ]
    }
   ],
   "source": [
    "# a = tf.reduce_mean(tf.square([1.,2.]))\n",
    "# with tf.Session() as sess:\n",
    "#     print(sess.run(a))"
   ]
  },
  {
   "cell_type": "markdown",
   "metadata": {
    "colab_type": "text",
    "id": "2oc_zwZ1QsRF"
   },
   "source": [
    "## Step 4: Optimizer"
   ]
  },
  {
   "cell_type": "code",
   "execution_count": 25,
   "metadata": {
    "colab": {},
    "colab_type": "code",
    "id": "XJwtNavDQqgu"
   },
   "outputs": [],
   "source": [
    "lr = 0.01\n",
    "optimizer = tf.train.GradientDescentOptimizer(lr)\n",
    "train = optimizer.minimize(loss)"
   ]
  },
  {
   "cell_type": "markdown",
   "metadata": {
    "colab_type": "text",
    "id": "DLU2RZKsSqjJ"
   },
   "source": [
    "## Step 5 Train the Model"
   ]
  },
  {
   "cell_type": "code",
   "execution_count": 40,
   "metadata": {
    "colab": {},
    "colab_type": "code",
    "id": "qANq-Di2SsGu"
   },
   "outputs": [],
   "source": [
    "# Initialize variables\n",
    "sess=tf.Session()\n",
    "init = tf.global_variables_initializer()\n",
    "sess.run(init)"
   ]
  },
  {
   "cell_type": "code",
   "execution_count": 41,
   "metadata": {
    "colab": {},
    "colab_type": "code",
    "id": "wLQWLupfS6o3"
   },
   "outputs": [],
   "source": [
    "# Iterate the optimizer to reduce error\n",
    "for i in range(200):\n",
    "    sess.run(train,{X:X_train,y:y_train})"
   ]
  },
  {
   "cell_type": "code",
   "execution_count": 42,
   "metadata": {
    "colab": {},
    "colab_type": "code",
    "id": "kcoMfWFCTN7A"
   },
   "outputs": [],
   "source": [
    "W1 = sess.run(W)\n",
    "b1 = sess.run(b)"
   ]
  },
  {
   "cell_type": "code",
   "execution_count": 43,
   "metadata": {
    "colab": {},
    "colab_type": "code",
    "id": "D8f7T9k0TU99"
   },
   "outputs": [
    {
     "data": {
      "text/plain": [
       "array([-0.49161178], dtype=float32)"
      ]
     },
     "execution_count": 43,
     "metadata": {},
     "output_type": "execute_result"
    }
   ],
   "source": [
    "W1"
   ]
  },
  {
   "cell_type": "code",
   "execution_count": 44,
   "metadata": {
    "colab": {},
    "colab_type": "code",
    "id": "1HkaVJ4BTV68"
   },
   "outputs": [
    {
     "data": {
      "text/plain": [
       "array([1.0477972], dtype=float32)"
      ]
     },
     "execution_count": 44,
     "metadata": {},
     "output_type": "execute_result"
    }
   ],
   "source": [
    "b1"
   ]
  },
  {
   "cell_type": "markdown",
   "metadata": {
    "colab_type": "text",
    "id": "x2b9RUUOWWJz"
   },
   "source": [
    "## Step 6 Evaluation"
   ]
  },
  {
   "cell_type": "code",
   "execution_count": 45,
   "metadata": {
    "colab": {},
    "colab_type": "code",
    "id": "yw5-Cl7nTW1n"
   },
   "outputs": [
    {
     "data": {
      "text/plain": [
       "[<matplotlib.lines.Line2D at 0x12dd612b0>]"
      ]
     },
     "execution_count": 45,
     "metadata": {},
     "output_type": "execute_result"
    },
    {
     "data": {
      "image/png": "[encoded data removed]",
      "text/plain": [
       "<Figure size 432x288 with 1 Axes>"
      ]
     },
     "metadata": {
      "needs_background": "light"
     },
     "output_type": "display_data"
    }
   ],
   "source": [
    "import matplotlib.pyplot as plt\n",
    "\n",
    "plt.scatter(X_train,y_train)\n",
    "plt.plot(X_train,W1*X_train+b1,'r')"
   ]
  },
  {
   "cell_type": "markdown",
   "metadata": {
    "colab": {},
    "colab_type": "code",
    "id": "H_3zIVMFTyGj"
   },
   "source": [
    "### Ex: Simple TF Model - Linear Regression Challenge"
   ]
  },
  {
   "cell_type": "code",
   "execution_count": 47,
   "metadata": {},
   "outputs": [],
   "source": [
    "import tensorflow as tf\n",
    "import numpy as np\n",
    "\n",
    "# Generate fictitious data\n",
    "N=100\n",
    "X_train = np.linspace(-10,10,N)\n",
    "c1 = np.random.normal(loc=2, scale=0.2, size=N)\n",
    "c2 = np.random.normal(loc=1.0, scale=0.2, size=N)\n",
    "c3 = np.random.normal(loc=-1.0, scale=0.2, size=N)\n",
    "y_train = c1*X_train*X_train + c2*X_train + c3"
   ]
  },
  {
   "cell_type": "code",
   "execution_count": 48,
   "metadata": {},
   "outputs": [],
   "source": [
    "# Step 1 Initial Setup\n",
    "x = tf.placeholder(tf.float32)\n",
    "W1 = tf.Variable([0.1],dtype=tf.float32)\n",
    "W2 = tf.Variable([0.1],dtype=tf.float32)\n",
    "b = tf.Variable([0.1],dtype=tf.float32)\n",
    "y = tf.placeholder(tf.float32)"
   ]
  },
  {
   "cell_type": "code",
   "execution_count": 49,
   "metadata": {},
   "outputs": [],
   "source": [
    "# Step 2 Model\n",
    "yhat = W1*x*x+W2*x+b"
   ]
  },
  {
   "cell_type": "code",
   "execution_count": 50,
   "metadata": {},
   "outputs": [],
   "source": [
    "# Step 3 Loss Function\n",
    "loss = tf.reduce_mean(tf.square(yhat-y))"
   ]
  },
  {
   "cell_type": "code",
   "execution_count": 51,
   "metadata": {},
   "outputs": [],
   "source": [
    "# Step 4 Optimizer\n",
    "train =tf.train.GradientDescentOptimizer(0.00001).minimize(loss)\n",
    "# train =tf.train.AdamOptimizer(0.01).minimize(loss)"
   ]
  },
  {
   "cell_type": "code",
   "execution_count": 52,
   "metadata": {},
   "outputs": [],
   "source": [
    "# Step 5 Training Loop\n",
    "sess = tf.Session()\n",
    "sess.run(tf.global_variables_initializer())"
   ]
  },
  {
   "cell_type": "code",
   "execution_count": 54,
   "metadata": {},
   "outputs": [],
   "source": [
    "for i in range(5000):\n",
    "    sess.run(train,feed_dict={x:X_train,y:y_train})"
   ]
  },
  {
   "cell_type": "code",
   "execution_count": 55,
   "metadata": {},
   "outputs": [],
   "source": [
    "W1 = sess.run(W1)\n",
    "W2 = sess.run(W2)\n",
    "b = sess.run(b)"
   ]
  },
  {
   "cell_type": "code",
   "execution_count": 56,
   "metadata": {},
   "outputs": [
    {
     "data": {
      "image/png": "[encoded data removed]",
      "text/plain": [
       "<Figure size 432x288 with 1 Axes>"
      ]
     },
     "metadata": {
      "needs_background": "light"
     },
     "output_type": "display_data"
    }
   ],
   "source": [
    "# Step 6 Evaluation\n",
    "import matplotlib.pyplot as plt\n",
    "plt.plot(X_train,y_train,'o')\n",
    "plt.plot(X_train,W1*X_train*X_train+W2*X_train+b,'r')\n",
    "plt.show()\n"
   ]
  },
  {
   "cell_type": "code",
   "execution_count": null,
   "metadata": {},
   "outputs": [],
   "source": []
  }
 ],
 "metadata": {
  "accelerator": "GPU",
  "colab": {
   "name": "module4_tenssorflow_regresssion.ipynb",
   "provenance": [],
   "version": "0.3.2"
  },
  "kernelspec": {
   "display_name": "Python 3.6.8",
   "language": "python",
   "name": "python3.6.8"
  },
  "language_info": {
   "codemirror_mode": {
    "name": "ipython",
    "version": 3
   },
   "file_extension": ".py",
   "mimetype": "text/x-python",
   "name": "python",
   "nbconvert_exporter": "python",
   "pygments_lexer": "ipython3",
   "version": "3.6.8"
  }
 },
 "nbformat": 4,
 "nbformat_minor": 1
}
