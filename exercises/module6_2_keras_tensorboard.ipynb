{
  "nbformat": 4,
  "nbformat_minor": 0,
  "metadata": {
    "colab": {
      "name": "module6_2_Keras_Tensorboard.ipynb",
      "version": "0.3.2",
      "provenance": [],
      "collapsed_sections": []
    },
    "kernelspec": {
      "name": "python3",
      "display_name": "Python 3"
    }
  },
  "cells": [
    {
      "metadata": {
        "id": "Hy0rIWaqY2qp",
        "colab_type": "text"
      },
      "cell_type": "markdown",
      "source": [
        "# Module 6.2 Visualizing with Keras TensorBoard Callbacks"
      ]
    },
    {
      "metadata": {
        "id": "c9wuy5K19orn",
        "colab_type": "code",
        "colab": {}
      },
      "cell_type": "code",
      "source": [
        "# Step 1 Data Processing\n",
        "\n",
        "from tensorflow.examples.tutorials.mnist import input_data\n",
        "mnist = input_data.read_data_sets(\"mnist\", one_hot=True)\n",
        "\n",
        "X_train = mnist.train.images\n",
        "y_train = mnist.train.labels\n",
        "X_test = mnist.test.images\n",
        "y_test = mnist.test.labels"
      ],
      "execution_count": 0,
      "outputs": []
    },
    {
      "metadata": {
        "id": "CV142mpA9pnZ",
        "colab_type": "code",
        "colab": {}
      },
      "cell_type": "code",
      "source": [
        "from keras.models import Sequential\n",
        "from keras.layers import Dense\n",
        "\n",
        "L1 = 200\n",
        "L2 = 100\n",
        "L3 = 60\n",
        "model = Sequential()\n",
        "model.add(Dense(L1, input_dim=784,activation='relu'))\n",
        "model.add(Dense(L2, activation='relu'))\n",
        "model.add(Dense(L3, activation='relu'))\n",
        "model.add(Dense(10, activation='softmax'))"
      ],
      "execution_count": 0,
      "outputs": []
    },
    {
      "metadata": {
        "id": "yVGWM3Ui-FJ6",
        "colab_type": "code",
        "colab": {}
      },
      "cell_type": "code",
      "source": [
        "model.compile(loss='categorical_crossentropy',\n",
        "             optimizer='adam',\n",
        "             metrics=['acc'])"
      ],
      "execution_count": 0,
      "outputs": []
    },
    {
      "metadata": {
        "id": "fLqF2ETf-jDo",
        "colab_type": "code",
        "colab": {}
      },
      "cell_type": "code",
      "source": [
        "import keras\n",
        "tb = keras.callbacks.TensorBoard(log_dir='/content/gdrive/My Drive/tf/relu',write_graph=True)"
      ],
      "execution_count": 0,
      "outputs": []
    },
    {
      "metadata": {
        "id": "E2GSm-10-7zK",
        "colab_type": "code",
        "colab": {}
      },
      "cell_type": "code",
      "source": [
        "from google.colab import drive\n",
        "drive.mount('/content/gdrive')"
      ],
      "execution_count": 0,
      "outputs": []
    },
    {
      "metadata": {
        "id": "loSzA85U-R7n",
        "colab_type": "code",
        "colab": {}
      },
      "cell_type": "code",
      "source": [
        "model.fit(X_test,y_test,batch_size=100,epochs=10,callbacks=[tb],validation_data=(X_test,y_test))"
      ],
      "execution_count": 0,
      "outputs": []
    },
    {
      "metadata": {
        "id": "8ySvxS6jY_TF",
        "colab_type": "text"
      },
      "cell_type": "markdown",
      "source": [
        "Download the event file to your local drive and run\n",
        "\n",
        "tensorboard --logdir= your_folder"
      ]
    },
    {
      "metadata": {
        "id": "HuuCvRFdYbZx",
        "colab_type": "text"
      },
      "cell_type": "markdown",
      "source": [
        "# Exercise: Add Sigmoid to the Tensorboard"
      ]
    },
    {
      "metadata": {
        "id": "YNbqlB-c-ZYC",
        "colab_type": "code",
        "colab": {}
      },
      "cell_type": "code",
      "source": [
        "from keras.models import Sequential\n",
        "from keras.layers import Dense\n",
        "\n",
        "L1 = 200\n",
        "L2 = 100\n",
        "L3 = 60\n",
        "model = Sequential()\n",
        "model.add(Dense(L1, input_dim=784,activation='sigmoid'))\n",
        "model.add(Dense(L2, activation='sigmoid'))\n",
        "model.add(Dense(L3, activation='sigmoid'))\n",
        "model.add(Dense(10, activation='softmax')"
      ],
      "execution_count": 0,
      "outputs": []
    },
    {
      "metadata": {
        "id": "Po8EDsQgYp7k",
        "colab_type": "code",
        "colab": {}
      },
      "cell_type": "code",
      "source": [
        "model.compile(loss='categorical_crossentropy',\n",
        "             optimizer='adam',\n",
        "             metrics=['acc'])"
      ],
      "execution_count": 0,
      "outputs": []
    },
    {
      "metadata": {
        "id": "5dDcQkV2YsGQ",
        "colab_type": "code",
        "colab": {}
      },
      "cell_type": "code",
      "source": [
        "import keras\n",
        "tb = keras.callbacks.TensorBoard(log_dir='/content/gdrive/My Drive/tf/sigmoid',write_graph=True)"
      ],
      "execution_count": 0,
      "outputs": []
    },
    {
      "metadata": {
        "id": "zFtRpFchYueE",
        "colab_type": "code",
        "colab": {}
      },
      "cell_type": "code",
      "source": [
        "model.fit(X_test,y_test,batch_size=100,epochs=10,callbacks=[tb],validation_data=(X_test,y_test)"
      ],
      "execution_count": 0,
      "outputs": []
    }
  ]
}