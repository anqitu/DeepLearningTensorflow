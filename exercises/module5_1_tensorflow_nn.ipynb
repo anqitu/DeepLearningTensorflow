{
  "nbformat": 4,
  "nbformat_minor": 0,
  "metadata": {
    "colab": {
      "name": "module5_1_tensorflow_nn.ipynb",
      "version": "0.3.2",
      "provenance": []
    },
    "kernelspec": {
      "name": "python3",
      "display_name": "Python 3"
    },
    "accelerator": "GPU"
  },
  "cells": [
    {
      "metadata": {
        "id": "G-t-M0n7h70a",
        "colab_type": "code",
        "colab": {}
      },
      "cell_type": "code",
      "source": [
        "import tensorflow as tf"
      ],
      "execution_count": 0,
      "outputs": []
    },
    {
      "metadata": {
        "id": "Pkiw9p1iiDHZ",
        "colab_type": "code",
        "colab": {}
      },
      "cell_type": "code",
      "source": [
        "# Step 1 Data Processing\n",
        "\n",
        "\n",
        "from tensorflow.examples.tutorials.mnist import input_data\n",
        "mnist = input_data.read_data_sets(\"mnist\", one_hot=True)\n",
        "\n",
        "X_train = mnist.train.images\n",
        "y_train = mnist.train.labels\n",
        "X_test = mnist.test.images\n",
        "y_test = mnist.test.labels"
      ],
      "execution_count": 0,
      "outputs": []
    },
    {
      "metadata": {
        "id": "A44VmbACiXtt",
        "colab_type": "code",
        "colab": {}
      },
      "cell_type": "code",
      "source": [
        "X = tf.placeholder(tf.float32,[None,784])\n",
        "y = tf.placeholder(tf.float32,[None,10])"
      ],
      "execution_count": 0,
      "outputs": []
    },
    {
      "metadata": {
        "id": "__OO96X8jWVR",
        "colab_type": "code",
        "colab": {}
      },
      "cell_type": "code",
      "source": [
        "L1=200\n",
        "L2=100\n",
        "L3=50"
      ],
      "execution_count": 0,
      "outputs": []
    },
    {
      "metadata": {
        "id": "nqrDo-ZxjeTO",
        "colab_type": "code",
        "colab": {}
      },
      "cell_type": "code",
      "source": [
        "W1 = tf.Variable(tf.truncated_normal([784,L1],stddev=0.1))\n",
        "B1 = tf.Variable(tf.truncated_normal([L1],stddev=0.1))\n",
        "W2 = tf.Variable(tf.truncated_normal([L1,L2],stddev=0.1))\n",
        "B2 = tf.Variable(tf.truncated_normal([L2],stddev=0.1))\n",
        "W3 = tf.Variable(tf.truncated_normal([L2,L3],stddev=0.1))\n",
        "B3 = tf.Variable(tf.truncated_normal([L3],stddev=0.1))\n",
        "W4 = tf.Variable(tf.truncated_normal([L3,10],stddev=0.1))\n",
        "B4 = tf.Variable(tf.truncated_normal([10],stddev=0.1))\n",
        "\n"
      ],
      "execution_count": 0,
      "outputs": []
    },
    {
      "metadata": {
        "id": "EHyxG8EAkwGw",
        "colab_type": "code",
        "colab": {}
      },
      "cell_type": "code",
      "source": [
        "# Step 2 Model\n",
        "\n",
        "Y1 = tf.nn.relu(tf.matmul(X,W1)+B1)\n",
        "Y2 = tf.nn.relu(tf.matmul(Y1,W2)+B2)\n",
        "Y3 = tf.nn.relu(tf.matmul(Y2,W3)+B3)"
      ],
      "execution_count": 0,
      "outputs": []
    },
    {
      "metadata": {
        "id": "accXapxXlwN-",
        "colab_type": "code",
        "colab": {}
      },
      "cell_type": "code",
      "source": [
        "Ylogits = tf.matmul(Y3,W4)+B4\n",
        "yhat = tf.nn.softmax(Ylogits)"
      ],
      "execution_count": 0,
      "outputs": []
    },
    {
      "metadata": {
        "id": "7qj4Kagxng-c",
        "colab_type": "code",
        "colab": {}
      },
      "cell_type": "code",
      "source": [
        "# Step 3 Loss Function\n",
        "\n",
        "loss = tf.reduce_mean(tf.nn.softmax_cross_entropy_with_logits_v2(labels=y,logits=Ylogits))"
      ],
      "execution_count": 0,
      "outputs": []
    },
    {
      "metadata": {
        "id": "LNrpSnf9pVzr",
        "colab_type": "code",
        "colab": {}
      },
      "cell_type": "code",
      "source": [
        "# Step 4 Optimizer\n",
        "\n",
        "lr = 0.01\n",
        "train = tf.train.AdamOptimizer(lr).minimize(loss)"
      ],
      "execution_count": 0,
      "outputs": []
    },
    {
      "metadata": {
        "id": "wT89xDn9pkZ7",
        "colab_type": "code",
        "colab": {}
      },
      "cell_type": "code",
      "source": [
        "# Step 5 Training\n",
        "\n",
        "init = tf.global_variables_initializer()\n",
        "sess = tf.Session()\n",
        "sess.run(init)\n",
        "\n",
        "training_epochs = 2\n",
        "batch_size = 100\n",
        "\n",
        "is_correct = tf.equal(tf.argmax(y,1),tf.argmax(yhat,1))\n",
        "accuracy = tf.reduce_mean(tf.cast(is_correct,tf.float32))\n",
        "\n",
        "for epoch in range(training_epochs):\n",
        "    num_batches = int(mnist.train.num_examples/batch_size)\n",
        "    for i in range(num_batches):\n",
        "        batch_X, batch_y = mnist.train.next_batch(batch_size)\n",
        "        train_data = {X: batch_X, y: batch_y}\n",
        "        sess.run(train, feed_dict=train_data)\n",
        "\n",
        "        print(epoch*num_batches+i+1, \"Training accuracy =\", sess.run(accuracy, feed_dict=train_data),\n",
        "              \"Loss =\", sess.run(loss, feed_dict=train_data))"
      ],
      "execution_count": 0,
      "outputs": []
    },
    {
      "metadata": {
        "id": "4XiCQvG_qUcU",
        "colab_type": "code",
        "colab": {}
      },
      "cell_type": "code",
      "source": [
        "test_data = {X:mnist.test.images,y:mnist.test.labels}\n",
        "print(\"Testing Accuracy = \", sess.run(accuracy, feed_dict = test_data))"
      ],
      "execution_count": 0,
      "outputs": []
    },
    {
      "metadata": {
        "id": "yYYaXv9BqieG",
        "colab_type": "code",
        "colab": {}
      },
      "cell_type": "code",
      "source": [
        ""
      ],
      "execution_count": 0,
      "outputs": []
    }
  ]
}