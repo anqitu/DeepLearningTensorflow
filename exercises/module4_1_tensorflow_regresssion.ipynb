{
  "nbformat": 4,
  "nbformat_minor": 0,
  "metadata": {
    "colab": {
      "name": "module4_tenssorflow_regresssion.ipynb",
      "version": "0.3.2",
      "provenance": []
    },
    "kernelspec": {
      "name": "python3",
      "display_name": "Python 3"
    },
    "accelerator": "GPU"
  },
  "cells": [
    {
      "metadata": {
        "id": "ign_n9jWN_yB",
        "colab_type": "code",
        "colab": {}
      },
      "cell_type": "code",
      "source": [
        "import tensorflow as tf\n",
        "import numpy as np"
      ],
      "execution_count": 0,
      "outputs": []
    },
    {
      "metadata": {
        "id": "qiyl87hqm3pc",
        "colab_type": "text"
      },
      "cell_type": "markdown",
      "source": [
        "## Step 1 Data Processing"
      ]
    },
    {
      "metadata": {
        "id": "FU9hJz0hOIIF",
        "colab_type": "code",
        "colab": {}
      },
      "cell_type": "code",
      "source": [
        "# Step 1\n",
        "N=100\n",
        "X_train = np.linspace(-10,10,N)\n",
        "c1 = np.random.normal(loc=-0.5, scale=0.2, size=N)\n",
        "c2 = np.random.normal(loc=1.0, scale=0.2, size=N)\n",
        "y_train = c1*X_train+c2"
      ],
      "execution_count": 0,
      "outputs": []
    },
    {
      "metadata": {
        "id": "at1VrMcFOVZ9",
        "colab_type": "code",
        "colab": {}
      },
      "cell_type": "code",
      "source": [
        "import matplotlib.pyplot as plt\n",
        "\n",
        "plt.scatter(X_train,y_train)\n"
      ],
      "execution_count": 0,
      "outputs": []
    },
    {
      "metadata": {
        "id": "2Od3HtYDOWXs",
        "colab_type": "code",
        "colab": {}
      },
      "cell_type": "code",
      "source": [
        "X = tf.placeholder(tf.float32)\n",
        "y = tf.placeholder(tf.float32)\n",
        "W = tf.Variable([0.1],tf.float32)\n",
        "b = tf.Variable([0.1],tf.float32)"
      ],
      "execution_count": 0,
      "outputs": []
    },
    {
      "metadata": {
        "id": "24bLDCfQPtVx",
        "colab_type": "code",
        "colab": {}
      },
      "cell_type": "code",
      "source": [
        ""
      ],
      "execution_count": 0,
      "outputs": []
    },
    {
      "metadata": {
        "id": "2xNUILV_PwBO",
        "colab_type": "text"
      },
      "cell_type": "markdown",
      "source": [
        "## Step 2: Define the Model"
      ]
    },
    {
      "metadata": {
        "id": "uSv28aWLPykt",
        "colab_type": "code",
        "colab": {}
      },
      "cell_type": "code",
      "source": [
        "yhat = tf.add(tf.multiply(W,X),b)"
      ],
      "execution_count": 0,
      "outputs": []
    },
    {
      "metadata": {
        "id": "qFepnCreQCLq",
        "colab_type": "text"
      },
      "cell_type": "markdown",
      "source": [
        "## Step 3: Loss Function"
      ]
    },
    {
      "metadata": {
        "id": "F7ZTidSlP71D",
        "colab_type": "code",
        "colab": {}
      },
      "cell_type": "code",
      "source": [
        "loss = tf.reduce_mean(tf.square(y-yhat))"
      ],
      "execution_count": 0,
      "outputs": []
    },
    {
      "metadata": {
        "id": "2oc_zwZ1QsRF",
        "colab_type": "text"
      },
      "cell_type": "markdown",
      "source": [
        "## Step 4: Optimizer"
      ]
    },
    {
      "metadata": {
        "id": "XJwtNavDQqgu",
        "colab_type": "code",
        "colab": {}
      },
      "cell_type": "code",
      "source": [
        "lr = 0.01\n",
        "optimizer = tf.train.GradientDescentOptimizer(lr)\n",
        "train = optimizer.minimize(loss)\n"
      ],
      "execution_count": 0,
      "outputs": []
    },
    {
      "metadata": {
        "id": "zCNPj8PbR0rO",
        "colab_type": "code",
        "colab": {}
      },
      "cell_type": "code",
      "source": [
        ""
      ],
      "execution_count": 0,
      "outputs": []
    },
    {
      "metadata": {
        "id": "DLU2RZKsSqjJ",
        "colab_type": "text"
      },
      "cell_type": "markdown",
      "source": [
        "## Step 5 Train the Model"
      ]
    },
    {
      "metadata": {
        "id": "qANq-Di2SsGu",
        "colab_type": "code",
        "colab": {}
      },
      "cell_type": "code",
      "source": [
        "sess=tf.Session()\n",
        "init = tf.global_variables_initializer()\n",
        "sess.run(init)"
      ],
      "execution_count": 0,
      "outputs": []
    },
    {
      "metadata": {
        "id": "wLQWLupfS6o3",
        "colab_type": "code",
        "colab": {}
      },
      "cell_type": "code",
      "source": [
        "for i in range(200):\n",
        "  sess.run(train, {X:X_train,y:y_train})"
      ],
      "execution_count": 0,
      "outputs": []
    },
    {
      "metadata": {
        "id": "kcoMfWFCTN7A",
        "colab_type": "code",
        "colab": {}
      },
      "cell_type": "code",
      "source": [
        "W1 = sess.run(W)\n",
        "b1 = sess.run(b)"
      ],
      "execution_count": 0,
      "outputs": []
    },
    {
      "metadata": {
        "id": "D8f7T9k0TU99",
        "colab_type": "code",
        "colab": {}
      },
      "cell_type": "code",
      "source": [
        "W1"
      ],
      "execution_count": 0,
      "outputs": []
    },
    {
      "metadata": {
        "id": "1HkaVJ4BTV68",
        "colab_type": "code",
        "colab": {}
      },
      "cell_type": "code",
      "source": [
        "b1"
      ],
      "execution_count": 0,
      "outputs": []
    },
    {
      "metadata": {
        "id": "x2b9RUUOWWJz",
        "colab_type": "text"
      },
      "cell_type": "markdown",
      "source": [
        "## Step 6 Evaluation"
      ]
    },
    {
      "metadata": {
        "id": "yw5-Cl7nTW1n",
        "colab_type": "code",
        "colab": {}
      },
      "cell_type": "code",
      "source": [
        "import matplotlib.pyplot as plt\n",
        "\n",
        "plt.scatter(X_train,y_train)\n",
        "plt.plot(X_train,W1*X_train+b1,'r')"
      ],
      "execution_count": 0,
      "outputs": []
    },
    {
      "metadata": {
        "id": "H_3zIVMFTyGj",
        "colab_type": "code",
        "colab": {}
      },
      "cell_type": "code",
      "source": [
        ""
      ],
      "execution_count": 0,
      "outputs": []
    }
  ]
}