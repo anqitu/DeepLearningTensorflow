{
  "nbformat": 4,
  "nbformat_minor": 0,
  "metadata": {
    "colab": {
      "name": "module7_1_tensorflow_cnn.ipynb",
      "version": "0.3.2",
      "provenance": []
    },
    "kernelspec": {
      "name": "python3",
      "display_name": "Python 3"
    },
    "accelerator": "GPU"
  },
  "cells": [
    {
      "metadata": {
        "id": "JMjWkEu4ybtM",
        "colab_type": "code",
        "colab": {}
      },
      "cell_type": "code",
      "source": [
        "# Step 1\n",
        "from tensorflow.examples.tutorials.mnist import input_data\n",
        "mnist = input_data.read_data_sets(\"mnist\", one_hot=True,reshape=False,validation_size=0)"
      ],
      "execution_count": 0,
      "outputs": []
    },
    {
      "metadata": {
        "id": "TKxpcVZY0wOp",
        "colab_type": "code",
        "colab": {}
      },
      "cell_type": "code",
      "source": [
        "import tensorflow as tf"
      ],
      "execution_count": 0,
      "outputs": []
    },
    {
      "metadata": {
        "id": "w-EjLuxt0smu",
        "colab_type": "code",
        "colab": {}
      },
      "cell_type": "code",
      "source": [
        "X = tf.placeholder(tf.float32,[None,28,28,1])\n",
        "y = tf.placeholder(tf.float32,[None,10])"
      ],
      "execution_count": 0,
      "outputs": []
    },
    {
      "metadata": {
        "id": "btKMtcvj1xTr",
        "colab_type": "code",
        "colab": {}
      },
      "cell_type": "code",
      "source": [
        "L1= 16\n",
        "L2 = 32\n",
        "L3 = 64 "
      ],
      "execution_count": 0,
      "outputs": []
    },
    {
      "metadata": {
        "id": "eeqx28dX22Mz",
        "colab_type": "code",
        "colab": {}
      },
      "cell_type": "code",
      "source": [
        "W1 = tf.Variable(tf.truncated_normal([3,3,1,L1],stddev=0.1))\n",
        "B1 = tf.Variable(tf.truncated_normal([L1],stddev=0.1))\n",
        "W2 = tf.Variable(tf.truncated_normal([3,3,L1,L2],stddev=0.1))\n",
        "B2 = tf.Variable(tf.truncated_normal([L2],stddev=0.1))\n",
        "\n",
        "W3 = tf.Variable(tf.truncated_normal([7*7*L2,L3],stddev=0.1))\n",
        "B3 = tf.Variable(tf.truncated_normal([L3],stddev=0.1))\n",
        "\n",
        "W4 = tf.Variable(tf.truncated_normal([L3,10],stddev=0.1))\n",
        "B4 = tf.Variable(tf.truncated_normal([10],stddev=0.1))\n"
      ],
      "execution_count": 0,
      "outputs": []
    },
    {
      "metadata": {
        "id": "3NOt-EIg7ZGx",
        "colab_type": "code",
        "colab": {}
      },
      "cell_type": "code",
      "source": [
        "# Step 2 Model\n",
        "\n",
        "Y1 = tf.nn.relu(tf.nn.conv2d(X,W1,strides=[1,1,1,1],padding='SAME')+B1)\n",
        "Y1 = tf.nn.max_pool(Y1,ksize=[1,2,2,1],strides=[1,2,2,1],padding='SAME')\n",
        "Y2 = tf.nn.relu(tf.nn.conv2d(Y1,W2,strides=[1,1,1,1],padding='SAME')+B2)\n",
        "Y2 = tf.nn.max_pool(Y2,ksize=[1,2,2,1],strides=[1,2,2,1],padding='SAME')\n",
        "\n",
        "YY = tf.reshape(Y2,shape=[-1,7*7*L2])\n",
        "\n",
        "Y3 = tf.nn.relu(tf.matmul(YY,W3)+B3)\n",
        "\n",
        "\n"
      ],
      "execution_count": 0,
      "outputs": []
    },
    {
      "metadata": {
        "id": "pU40TIq48xkO",
        "colab_type": "code",
        "colab": {}
      },
      "cell_type": "code",
      "source": [
        "Ylogits = tf.matmul(Y3,W4)+B4\n",
        "yhat = tf.nn.softmax(Ylogits)"
      ],
      "execution_count": 0,
      "outputs": []
    },
    {
      "metadata": {
        "id": "iWpRz2qW85Uy",
        "colab_type": "code",
        "colab": {}
      },
      "cell_type": "code",
      "source": [
        "# Step 3 Loss Function\n",
        "\n",
        "loss = tf.reduce_mean(tf.nn.softmax_cross_entropy_with_logits_v2(labels=y,logits=Ylogits))"
      ],
      "execution_count": 0,
      "outputs": []
    },
    {
      "metadata": {
        "id": "6WSrYYM8-H11",
        "colab_type": "code",
        "colab": {}
      },
      "cell_type": "code",
      "source": [
        "# Step 4 Optimizer\n",
        "\n",
        "lr = 0.01\n",
        "train = tf.train.AdamOptimizer(lr).minimize(loss)"
      ],
      "execution_count": 0,
      "outputs": []
    },
    {
      "metadata": {
        "id": "AAyGaMXz-KlU",
        "colab_type": "code",
        "colab": {}
      },
      "cell_type": "code",
      "source": [
        "# accuracy of the trained model\n",
        "is_correct = tf.equal(tf.argmax(y,1),tf.argmax(yhat,1))\n",
        "accuracy = tf.reduce_mean(tf.cast(is_correct,tf.float32))\n",
        "\n",
        "init = tf.global_variables_initializer()\n",
        "sess = tf.Session()\n",
        "sess.run(init)\n",
        "\n",
        "training_epochs = 2\n",
        "batch_size = 100\n",
        "\n",
        "# Step 5: Training Loop\n",
        "for epoch in range(training_epochs):\n",
        "    num_batches = int(mnist.train.num_examples / batch_size)\n",
        "    for i in range(num_batches):\n",
        "        batch_X, batch_y = mnist.train.next_batch(batch_size)\n",
        "        train_data = {X: batch_X, y: batch_y}\n",
        "        sess.run(train, feed_dict=train_data)\n",
        "        print(epoch * num_batches + i + 1, \"Training accuracy =\", sess.run(accuracy, feed_dict=train_data),\n",
        "          \"Loss =\", sess.run(loss, feed_dict=train_data))\n"
      ],
      "execution_count": 0,
      "outputs": []
    },
    {
      "metadata": {
        "id": "3hskzNmF-gQb",
        "colab_type": "code",
        "colab": {}
      },
      "cell_type": "code",
      "source": [
        "test_data = {X:mnist.test.images,y:mnist.test.labels}\n",
        "print(\"Testing Accuracy = \", sess.run(accuracy, feed_dict = test_data))"
      ],
      "execution_count": 0,
      "outputs": []
    },
    {
      "metadata": {
        "id": "Sxl-BJ_c-s48",
        "colab_type": "code",
        "colab": {}
      },
      "cell_type": "code",
      "source": [
        ""
      ],
      "execution_count": 0,
      "outputs": []
    }
  ]
}